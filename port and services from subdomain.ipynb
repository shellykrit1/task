{
 "cells": [
  {
   "cell_type": "code",
   "execution_count": null,
   "id": "23666f48",
   "metadata": {},
   "outputs": [],
   "source": [
    "import socket # for connecting\n",
    "from colorama import init, Fore\n",
    "\n",
    "l_ports = []\n",
    "s_ports = []\n",
    "# some colors\n",
    "init()\n",
    "GREEN = Fore.GREEN\n",
    "RESET = Fore.RESET\n",
    "GRAY = Fore.LIGHTBLACK_EX\n",
    "\n",
    "def is_port_open(host, port):\n",
    "    \"\"\"\n",
    "    determine whether `host` has the `port` open\n",
    "    \"\"\"\n",
    "    # creates a new socket\n",
    "    s = socket.socket()\n",
    "    try:\n",
    "        # tries to connect to host using that port\n",
    "        s.connect((host, port))\n",
    "        # make timeout if you want it a little faster ( less accuracy )\n",
    "        s.settimeout(0.2)\n",
    "    except:\n",
    "        # cannot connect, port is closed\n",
    "        # return false\n",
    "        return False\n",
    "    else:\n",
    "        # the connection was established, port is open!\n",
    "        return True\n",
    "\n",
    "def services_on_port(port):\n",
    "    service = socket.getservbyport(port, \"tcp\")\n",
    "    return(service)\n",
    "    \n",
    "# get the host from the user\n",
    "host = input(\"Enter the host:\")\n",
    "# iterate over ports, from 1 to 1024\n",
    "for port in range(1, 1025):\n",
    "    if is_port_open(host, port):\n",
    "        l_ports.append(port)\n",
    "        if (services_on_port) is not None:\n",
    "            s_port.append(service)\n",
    "            "
   ]
  }
 ],
 "metadata": {
  "kernelspec": {
   "display_name": "Python 3 (ipykernel)",
   "language": "python",
   "name": "python3"
  },
  "language_info": {
   "codemirror_mode": {
    "name": "ipython",
    "version": 3
   },
   "file_extension": ".py",
   "mimetype": "text/x-python",
   "name": "python",
   "nbconvert_exporter": "python",
   "pygments_lexer": "ipython3",
   "version": "3.9.7"
  }
 },
 "nbformat": 4,
 "nbformat_minor": 5
}
